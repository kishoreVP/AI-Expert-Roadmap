{
  "nbformat": 4,
  "nbformat_minor": 0,
  "metadata": {
    "colab": {
      "provenance": [],
      "authorship_tag": "ABX9TyMqMTGW4p90Vo+u5PtcQz4K",
      "include_colab_link": true
    },
    "kernelspec": {
      "name": "python3",
      "display_name": "Python 3"
    },
    "language_info": {
      "name": "python"
    }
  },
  "cells": [
    {
      "cell_type": "markdown",
      "metadata": {
        "id": "view-in-github",
        "colab_type": "text"
      },
      "source": [
        "<a href=\"https://colab.research.google.com/github/kishoreVP/AI-Expert-Roadmap/blob/main/NN.ipynb\" target=\"_parent\"><img src=\"https://colab.research.google.com/assets/colab-badge.svg\" alt=\"Open In Colab\"/></a>"
      ]
    },
    {
      "cell_type": "code",
      "execution_count": null,
      "metadata": {
        "id": "pBDVn3YEawJ-"
      },
      "outputs": [],
      "source": [
        "#importing necessary library\n",
        "import torch\n",
        "import torch.nn as nn\n",
        "import torch.optim as optim\n",
        "import torch.nn.functional as F\n",
        "from torch.utils.data import DataLoader\n",
        "import torchvision.datasets as datasets\n",
        "import torchvision.transforms as transforms"
      ]
    },
    {
      "cell_type": "code",
      "source": [
        "#Fully Connected Network\n",
        "class Custom_NN(nn.Module):\n",
        "  def __init__(self,model_arc):\n",
        "    super(self).__init__()\n",
        "    self.arc = model_arc\n",
        "    layer_map = {\n",
        "        'relu': nn.ReLU,\n",
        "        'tanh': nn.Tanh,\n",
        "        'sigmoid': nn.Sigmoid,\n",
        "        'softmax': lambda: nn.Softmax(dim=1),\n",
        "        'dropout': lambda: nn.Dropout(p=0.5),\n",
        "    }\n",
        "\n",
        "\n",
        "    def build(self):\n",
        "      layers = []\n",
        "      i=0\n",
        "\n",
        "      while (i<len(self.arc)-1):\n",
        "          current = self.arc[i]\n",
        "          next = self.arc[i+1]\n",
        "          if isinstance(current,int) and isinstance(next,int):\n",
        "            layers.append(nn.Linear(current,next))\n",
        "            i+=1\n",
        "\n"
      ],
      "metadata": {
        "id": "Qf6UcsiZXk7R"
      },
      "execution_count": 3,
      "outputs": []
    }
  ]
}