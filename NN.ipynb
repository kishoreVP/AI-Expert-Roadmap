{
  "nbformat": 4,
  "nbformat_minor": 0,
  "metadata": {
    "colab": {
      "provenance": [],
      "authorship_tag": "ABX9TyNCh7nQTeB4inSa+u5iACpO",
      "include_colab_link": true
    },
    "kernelspec": {
      "name": "python3",
      "display_name": "Python 3"
    },
    "language_info": {
      "name": "python"
    }
  },
  "cells": [
    {
      "cell_type": "markdown",
      "metadata": {
        "id": "view-in-github",
        "colab_type": "text"
      },
      "source": [
        "<a href=\"https://colab.research.google.com/github/kishoreVP/AI-Expert-Roadmap/blob/main/NN.ipynb\" target=\"_parent\"><img src=\"https://colab.research.google.com/assets/colab-badge.svg\" alt=\"Open In Colab\"/></a>"
      ]
    },
    {
      "cell_type": "code",
      "execution_count": 4,
      "metadata": {
        "id": "pBDVn3YEawJ-"
      },
      "outputs": [],
      "source": [
        "#importing necessary library\n",
        "import torch\n",
        "import torch.nn as nn\n",
        "import torch.optim as optim\n",
        "import torch.nn.functional as F\n",
        "from torch.utils.data import DataLoader,TensorDataset\n",
        "import torchvision.datasets as datasets\n",
        "import torchvision.transforms as transforms"
      ]
    },
    {
      "cell_type": "code",
      "source": [
        "#Fully Connected Network\n",
        "class Custom_NN(nn.Module):\n",
        "  def __init__(self,model_arc):\n",
        "    super(self).__init__()\n",
        "    self.arc = model_arc\n",
        "    layer_map = {\n",
        "        'relu': nn.ReLU,\n",
        "        'tanh': nn.Tanh,\n",
        "        'sigmoid': nn.Sigmoid,\n",
        "        'softmax': lambda: nn.Softmax(dim=1),\n",
        "        'dropout': lambda: nn.Dropout(p=0.5),\n",
        "    }\n",
        "    self.network = self.build()\n",
        "\n",
        "    def build(self):\n",
        "      layers = []\n",
        "\n",
        "      for i in range(1,len(self.arc)):\n",
        "        current = self.arc[i]\n",
        "\n",
        "        # Case 1 if string\n",
        "        if isinstance(current,str):\n",
        "          if current.lower() in self.layer_map:\n",
        "            layers.append(self.layer_map[current.lower()]())\n",
        "          else:\n",
        "            raise ValueError(f\"Add the required function before using it:{current}\")\n",
        "\n",
        "        # Case 2\n",
        "        elif isinstance(current,int):\n",
        "          prev = self.arc[i-1]\n",
        "\n",
        "          if isinstance(prev,str):\n",
        "            prev = self.arc[i-2]\n",
        "\n",
        "          layers.append(nn.Linear(prev,current))\n",
        "      return nn.Sequential(*layers) #list unpacking\n",
        "\n",
        "    def forward(self,x) -> torch.tensor\n",
        "      return self.network(x)\n",
        "\n",
        "    def train_one_epoch(self,data_loader,loss_function,optimizer):\n",
        "      self.train() #Set the model to training mode\n",
        "\n",
        "      for inputs,labels in data_loader:\n",
        "        optimizer.zero_grad()\n",
        "        outputs = self(inputs)\n",
        "        loss = loss_function(outputs,labels)\n",
        "        loss.backward()\n",
        "        optimizer.step()\n",
        "        total_loss+=loss.item\n",
        "      avg_loss = total_loss/len(data_loader)\n",
        "      print(f\"  Training Loss: {avg_loss:.4f}\")\n",
        "\n",
        "\n",
        "\n",
        "  def train(self,train_loader,test_loader,loss_fn,optimizer,epochs):\n",
        "    for epoch in range(epochs):\n",
        "      self.train_one_epoch(train_loader, loss_fn, optimizer)\n",
        "      self.test_model(test_loader, loss_fn)\n",
        "      print(f\"Epoch {epoch + 1}/{epochs}\")"
      ],
      "metadata": {
        "id": "Qf6UcsiZXk7R"
      },
      "execution_count": 6,
      "outputs": []
    }
  ]
}